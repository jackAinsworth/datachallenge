{
 "cells": [
  {
   "cell_type": "markdown",
   "metadata": {},
   "source": [
    "# Erkennung von Aktivitäten aus Smartphone-Messungen"
   ],
   "id": "edb613ca5fb6176"
  },
  {
   "cell_type": "markdown",
   "metadata": {},
   "source": [
    "### Schritt 1: Einlesen der Daten"
   ],
   "id": "eb172b1d5d328224"
  },
  {
   "cell_type": "code",
   "execution_count": 14,
   "metadata": {
    "ExecuteTime": {
     "end_time": "2024-05-17T06:48:42.297299400Z",
     "start_time": "2024-05-17T06:48:42.236359300Z"
    }
   },
   "outputs": [],
   "source": [],
   "id": "1f778b20edd409ed"
  },
  {
   "cell_type": "markdown",
   "metadata": {},
   "source": [
    "### Schritt 2: Überprüfen und Bereinigen von doppelten Spaltennamen"
   ],
   "id": "851bb640eaadb8a8"
  },
  {
   "cell_type": "code",
   "outputs": [
    {
     "name": "stdout",
     "output_type": "stream",
     "text": [
      "   tBodyAcc-mean()-X  tBodyAcc-mean()-Y  tBodyAcc-mean()-Z  tBodyAcc-std()-X  \\\n",
      "0           0.288585          -0.020294          -0.132905         -0.995279   \n",
      "1           0.278419          -0.016411          -0.123520         -0.998245   \n",
      "2           0.279653          -0.019467          -0.113462         -0.995380   \n",
      "3           0.279174          -0.026201          -0.123283         -0.996091   \n",
      "4           0.276629          -0.016570          -0.115362         -0.998139   \n",
      "\n",
      "   tBodyAcc-std()-Y  tBodyAcc-std()-Z  tBodyAcc-mad()-X  tBodyAcc-mad()-Y  \\\n",
      "0         -0.983111         -0.913526         -0.995112         -0.983185   \n",
      "1         -0.975300         -0.960322         -0.998807         -0.974914   \n",
      "2         -0.967187         -0.978944         -0.996520         -0.963668   \n",
      "3         -0.983403         -0.990675         -0.997099         -0.982750   \n",
      "4         -0.980817         -0.990482         -0.998321         -0.979672   \n",
      "\n",
      "   tBodyAcc-mad()-Z  tBodyAcc-max()-X  ...  fBodyBodyGyroJerkMag-kurtosis()  \\\n",
      "0         -0.923527         -0.934724  ...                        -0.710304   \n",
      "1         -0.957686         -0.943068  ...                        -0.861499   \n",
      "2         -0.977469         -0.938692  ...                        -0.760104   \n",
      "3         -0.989302         -0.938692  ...                        -0.482845   \n",
      "4         -0.990441         -0.942469  ...                        -0.699205   \n",
      "\n",
      "   angle(tBodyAccMean,gravity)  angle(tBodyAccJerkMean),gravityMean)  \\\n",
      "0                    -0.112754                              0.030400   \n",
      "1                     0.053477                             -0.007435   \n",
      "2                    -0.118559                              0.177899   \n",
      "3                    -0.036788                             -0.012892   \n",
      "4                     0.123320                              0.122542   \n",
      "\n",
      "   angle(tBodyGyroMean,gravityMean)  angle(tBodyGyroJerkMean,gravityMean)  \\\n",
      "0                         -0.464761                             -0.018446   \n",
      "1                         -0.732626                              0.703511   \n",
      "2                          0.100699                              0.808529   \n",
      "3                          0.640011                             -0.485366   \n",
      "4                          0.693578                             -0.615971   \n",
      "\n",
      "   angle(X,gravityMean)  angle(Y,gravityMean)  angle(Z,gravityMean)  subject  \\\n",
      "0             -0.841247              0.179941             -0.058627      1.0   \n",
      "1             -0.844788              0.180289             -0.054317      1.0   \n",
      "2             -0.848933              0.180637             -0.049118      1.0   \n",
      "3             -0.848649              0.181935             -0.047663      1.0   \n",
      "4             -0.847865              0.185151             -0.043892      1.0   \n",
      "\n",
      "   activity  \n",
      "0       NaN  \n",
      "1       NaN  \n",
      "2       NaN  \n",
      "3       NaN  \n",
      "4       NaN  \n",
      "\n",
      "[5 rows x 563 columns]\n",
      "   tBodyAcc-mean()-X  tBodyAcc-mean()-Y  tBodyAcc-mean()-Z  tBodyAcc-std()-X  \\\n",
      "0           0.257178          -0.023285          -0.014654         -0.938404   \n",
      "1           0.286027          -0.013163          -0.119083         -0.975415   \n",
      "2           0.275485          -0.026050          -0.118152         -0.993819   \n",
      "3           0.270298          -0.032614          -0.117520         -0.994743   \n",
      "4           0.274833          -0.027848          -0.129527         -0.993852   \n",
      "\n",
      "   tBodyAcc-std()-Y  tBodyAcc-std()-Z  tBodyAcc-mad()-X  tBodyAcc-mad()-Y  \\\n",
      "0         -0.920091         -0.667683         -0.952501         -0.925249   \n",
      "1         -0.967458         -0.944958         -0.986799         -0.968401   \n",
      "2         -0.969926         -0.962748         -0.994403         -0.970735   \n",
      "3         -0.973268         -0.967091         -0.995274         -0.974471   \n",
      "4         -0.967445         -0.978295         -0.994111         -0.965953   \n",
      "\n",
      "   tBodyAcc-mad()-Z  tBodyAcc-max()-X  ...  fBodyBodyGyroJerkMag-skewness()  \\\n",
      "0         -0.674302         -0.894088  ...                        -0.330370   \n",
      "1         -0.945823         -0.894088  ...                        -0.121845   \n",
      "2         -0.963483         -0.939260  ...                        -0.190422   \n",
      "3         -0.968897         -0.938610  ...                        -0.344418   \n",
      "4         -0.977346         -0.938610  ...                        -0.534685   \n",
      "\n",
      "   fBodyBodyGyroJerkMag-kurtosis()  angle(tBodyAccMean,gravity)  \\\n",
      "0                        -0.705974                     0.006462   \n",
      "1                        -0.594944                    -0.083495   \n",
      "2                        -0.640736                    -0.034956   \n",
      "3                        -0.736124                    -0.017067   \n",
      "4                        -0.846595                    -0.002223   \n",
      "\n",
      "   angle(tBodyAccJerkMean),gravityMean)  angle(tBodyGyroMean,gravityMean)  \\\n",
      "0                              0.162920                         -0.825886   \n",
      "1                              0.017500                         -0.434375   \n",
      "2                              0.202302                          0.064103   \n",
      "3                              0.154438                          0.340134   \n",
      "4                             -0.040046                          0.736715   \n",
      "\n",
      "   angle(tBodyGyroJerkMean,gravityMean)  angle(X,gravityMean)  \\\n",
      "0                              0.271151             -0.720009   \n",
      "1                              0.920593             -0.698091   \n",
      "2                              0.145068             -0.702771   \n",
      "3                              0.296407             -0.698954   \n",
      "4                             -0.118545             -0.692245   \n",
      "\n",
      "   angle(Y,gravityMean)  angle(Z,gravityMean)  subject  \n",
      "0              0.276801             -0.057978      2.0  \n",
      "1              0.281343             -0.083898      2.0  \n",
      "2              0.280083             -0.079346      2.0  \n",
      "3              0.284114             -0.077108      2.0  \n",
      "4              0.290722             -0.073857      2.0  \n",
      "\n",
      "[5 rows x 562 columns]\n",
      "Index(['tBodyAcc-mean()-X', 'tBodyAcc-mean()-Y', 'tBodyAcc-mean()-Z',\n",
      "       'tBodyAcc-std()-X', 'tBodyAcc-std()-Y', 'tBodyAcc-std()-Z',\n",
      "       'tBodyAcc-mad()-X', 'tBodyAcc-mad()-Y', 'tBodyAcc-mad()-Z',\n",
      "       'tBodyAcc-max()-X',\n",
      "       ...\n",
      "       'fBodyBodyGyroJerkMag-kurtosis()', 'angle(tBodyAccMean,gravity)',\n",
      "       'angle(tBodyAccJerkMean),gravityMean)',\n",
      "       'angle(tBodyGyroMean,gravityMean)',\n",
      "       'angle(tBodyGyroJerkMean,gravityMean)', 'angle(X,gravityMean)',\n",
      "       'angle(Y,gravityMean)', 'angle(Z,gravityMean)', 'subject', 'activity'],\n",
      "      dtype='object', length=563)\n",
      "Index(['tBodyAcc-mean()-X', 'tBodyAcc-mean()-Y', 'tBodyAcc-mean()-Z',\n",
      "       'tBodyAcc-std()-X', 'tBodyAcc-std()-Y', 'tBodyAcc-std()-Z',\n",
      "       'tBodyAcc-mad()-X', 'tBodyAcc-mad()-Y', 'tBodyAcc-mad()-Z',\n",
      "       'tBodyAcc-max()-X',\n",
      "       ...\n",
      "       'fBodyBodyGyroJerkMag-skewness()', 'fBodyBodyGyroJerkMag-kurtosis()',\n",
      "       'angle(tBodyAccMean,gravity)', 'angle(tBodyAccJerkMean),gravityMean)',\n",
      "       'angle(tBodyGyroMean,gravityMean)',\n",
      "       'angle(tBodyGyroJerkMean,gravityMean)', 'angle(X,gravityMean)',\n",
      "       'angle(Y,gravityMean)', 'angle(Z,gravityMean)', 'subject'],\n",
      "      dtype='object', length=562)\n",
      "['1.0' '3.0' '5.0' '6.0' '7.0' '8.0' '11.0' '14.0' '15.0' '16.0' '17.0'\n",
      " '19.0' '21.0' '22.0' '23.0' '25.0' '26.0' '27.0' '28.0' '29.0' '30.0']\n"
     ]
    }
   ],
   "source": [
    "import pandas as pd\n",
    "\n",
    "# Funktion zum Bereinigen und Konvertieren der Daten\n",
    "def clean_and_convert(data):\n",
    "    # Ersetzen von Kommas durch Punkte\n",
    "    data = data.replace(',', '.', regex=True)\n",
    "    # Konvertieren der Daten in numerische Werte\n",
    "\n",
    "    numeric_columns = data.columns.drop(['subject'])\n",
    "    for column in numeric_columns:\n",
    "        data[column] = pd.to_numeric(data[column], errors='coerce')\n",
    "    return data\n",
    "\n",
    "# Daten einlesen\n",
    "data = pd.read_csv('measures.csv', sep=';')\n",
    "to_predict = pd.read_csv('to_predict.csv', sep=';')\n",
    "\n",
    "# Bereinigen und Konvertieren der Daten\n",
    "data = clean_and_convert(data)\n",
    "to_predict = clean_and_convert(to_predict)\n",
    "\n",
    "# Überprüfen der ersten Zeilen der bereinigten Daten\n",
    "print(data.head())\n",
    "print(to_predict.head())\n",
    "\n",
    "# Überprüfen der Spaltennamen\n",
    "print(data.columns)\n",
    "print(to_predict.columns)\n",
    "\n",
    "# Überprüfen der eindeutigen Werte in der 'subject'-Spalte\n",
    "print(data['subject'].unique())\n"
   ],
   "metadata": {
    "collapsed": false,
    "ExecuteTime": {
     "end_time": "2024-05-17T06:48:52.877141100Z",
     "start_time": "2024-05-17T06:48:42.308622300Z"
    }
   },
   "id": "d6b34c3159c58964",
   "execution_count": 15
  },
  {
   "cell_type": "code",
   "execution_count": 16,
   "metadata": {
    "ExecuteTime": {
     "end_time": "2024-05-17T06:48:52.926644300Z",
     "start_time": "2024-05-17T06:48:52.873158800Z"
    }
   },
   "outputs": [
    {
     "name": "stdout",
     "output_type": "stream",
     "text": [
      "Index(['tBodyAcc-mean()-X', 'tBodyAcc-mean()-Y', 'tBodyAcc-mean()-Z',\n",
      "       'tBodyAcc-std()-X', 'tBodyAcc-std()-Y', 'tBodyAcc-std()-Z',\n",
      "       'tBodyAcc-mad()-X', 'tBodyAcc-mad()-Y', 'tBodyAcc-mad()-Z',\n",
      "       'tBodyAcc-max()-X',\n",
      "       ...\n",
      "       'fBodyBodyGyroJerkMag-kurtosis()', 'angle(tBodyAccMean,gravity)',\n",
      "       'angle(tBodyAccJerkMean),gravityMean)',\n",
      "       'angle(tBodyGyroMean,gravityMean)',\n",
      "       'angle(tBodyGyroJerkMean,gravityMean)', 'angle(X,gravityMean)',\n",
      "       'angle(Y,gravityMean)', 'angle(Z,gravityMean)', 'subject', 'activity'],\n",
      "      dtype='object', length=563)\n",
      "Index(['tBodyAcc-mean()-X', 'tBodyAcc-mean()-Y', 'tBodyAcc-mean()-Z',\n",
      "       'tBodyAcc-std()-X', 'tBodyAcc-std()-Y', 'tBodyAcc-std()-Z',\n",
      "       'tBodyAcc-mad()-X', 'tBodyAcc-mad()-Y', 'tBodyAcc-mad()-Z',\n",
      "       'tBodyAcc-max()-X',\n",
      "       ...\n",
      "       'fBodyBodyGyroJerkMag-skewness()', 'fBodyBodyGyroJerkMag-kurtosis()',\n",
      "       'angle(tBodyAccMean,gravity)', 'angle(tBodyAccJerkMean),gravityMean)',\n",
      "       'angle(tBodyGyroMean,gravityMean)',\n",
      "       'angle(tBodyGyroJerkMean,gravityMean)', 'angle(X,gravityMean)',\n",
      "       'angle(Y,gravityMean)', 'angle(Z,gravityMean)', 'subject'],\n",
      "      dtype='object', length=562)\n"
     ]
    }
   ],
   "source": [
    "import pandas as pd\n",
    "\n",
    "def maybe_dedup_names(names):\n",
    "    # Hilfsfunktion zur Bereinigung doppelter Spaltennamen\n",
    "    counts = {}\n",
    "    result = []\n",
    "    for name in names:\n",
    "        if name not in counts:\n",
    "            counts[name] = 0\n",
    "        else:\n",
    "            counts[name] += 1\n",
    "            name = f\"{name}.{counts[name]}\"\n",
    "        result.append(name)\n",
    "    return result\n",
    "\n",
    "# Überprüfen auf doppelte Spaltennamen\n",
    "data_columns = data.columns\n",
    "to_predict_columns = to_predict.columns\n",
    "\n",
    "# Bereinigen von doppelten Spaltennamen\n",
    "data.columns = maybe_dedup_names(data_columns)\n",
    "to_predict.columns = maybe_dedup_names(to_predict_columns)\n",
    "\n",
    "# Überprüfen der bereinigten Spaltennamen\n",
    "print(data.columns)\n",
    "print(to_predict.columns)\n"
   ],
   "id": "9414171356e3ea66"
  },
  {
   "cell_type": "markdown",
   "metadata": {},
   "source": [
    "### Schritt 3: Datenaufteilung in Trainings- und Testmengen"
   ],
   "id": "92d75025a4e77b9c"
  },
  {
   "cell_type": "code",
   "execution_count": 17,
   "metadata": {
    "ExecuteTime": {
     "end_time": "2024-05-17T06:48:53.012059800Z",
     "start_time": "2024-05-17T06:48:52.901840300Z"
    }
   },
   "outputs": [
    {
     "name": "stdout",
     "output_type": "stream",
     "text": [
      "(0, 561) (0,) (0, 561) (0,) (2947, 561)\n"
     ]
    }
   ],
   "source": [
    "# Datenaufteilung\n",
    "train_data = data[data['subject'].isin([1, 3, 5, 6])]\n",
    "test_data = data[data['subject'].isin([27, 28, 29, 30])]\n",
    "\n",
    "# Features und Zielvariable\n",
    "X_train = train_data.drop(['subject', 'activity'], axis=1)\n",
    "y_train = train_data['activity']\n",
    "X_test = test_data.drop(['subject', 'activity'], axis=1)\n",
    "y_test = test_data['activity']\n",
    "\n",
    "# Vorhersagedaten\n",
    "X_to_predict = to_predict.drop(['subject'], axis=1)\n",
    "\n",
    "# Formen der Datensätze anzeigen\n",
    "print(X_train.shape, y_train.shape, X_test.shape, y_test.shape, X_to_predict.shape)"
   ],
   "id": "c8592ce67657fa91"
  },
  {
   "cell_type": "markdown",
   "source": [],
   "metadata": {
    "collapsed": false
   },
   "id": "5eeb78cc88d11533"
  },
  {
   "cell_type": "code",
   "outputs": [
    {
     "name": "stdout",
     "output_type": "stream",
     "text": [
      "  tBodyAcc-mean()-X tBodyAcc-mean()-Y tBodyAcc-mean()-Z tBodyAcc-std()-X  \\\n",
      "0        0,28858451      -0,020294171       -0,13290514       -0,9952786   \n",
      "1        0,27841883      -0,016410568       -0,12352019      -0,99824528   \n",
      "2        0,27965306      -0,019467156       -0,11346169      -0,99537956   \n",
      "3        0,27917394      -0,026200646       -0,12328257      -0,99609149   \n",
      "4        0,27662877      -0,016569655       -0,11536185      -0,99813862   \n",
      "\n",
      "  tBodyAcc-std()-Y tBodyAcc-std()-Z tBodyAcc-mad()-X tBodyAcc-mad()-Y  \\\n",
      "0      -0,98311061      -0,91352645      -0,99511208      -0,98318457   \n",
      "1      -0,97530022      -0,96032199      -0,99880719      -0,97491437   \n",
      "2      -0,96718701      -0,97894396      -0,99651994      -0,96366837   \n",
      "3       -0,9834027       -0,9906751      -0,99709947      -0,98274984   \n",
      "4      -0,98081727      -0,99048163      -0,99832113      -0,97967187   \n",
      "\n",
      "  tBodyAcc-mad()-Z tBodyAcc-max()-X  ... fBodyBodyGyroJerkMag-kurtosis()  \\\n",
      "0      -0,92352702      -0,93472378  ...                     -0,71030407   \n",
      "1      -0,95768622      -0,94306751  ...                     -0,86149931   \n",
      "2      -0,97746859      -0,93869155  ...                     -0,76010372   \n",
      "3       -0,9893025      -0,93869155  ...                     -0,48284451   \n",
      "4      -0,99044113      -0,94246912  ...                     -0,69920515   \n",
      "\n",
      "  angle(tBodyAccMean,gravity) angle(tBodyAccJerkMean),gravityMean)  \\\n",
      "0                 -0,11275434                          0,030400372   \n",
      "1                 0,053476955                        -0,0074345661   \n",
      "2                 -0,11855926                           0,17789948   \n",
      "3                -0,036787973                         -0,012892494   \n",
      "4                  0,12332005                           0,12254196   \n",
      "\n",
      "  angle(tBodyGyroMean,gravityMean) angle(tBodyGyroJerkMean,gravityMean)  \\\n",
      "0                      -0,46476139                         -0,018445884   \n",
      "1                      -0,73262621                           0,70351059   \n",
      "2                       0,10069921                           0,80852908   \n",
      "3                       0,64001104                          -0,48536645   \n",
      "4                       0,69357829                          -0,61597061   \n",
      "\n",
      "  angle(X,gravityMean) angle(Y,gravityMean) angle(Z,gravityMean) subject  \\\n",
      "0          -0,84124676           0,17994061         -0,058626924     1,0   \n",
      "1           -0,8447876           0,18028889         -0,054316717     1,0   \n",
      "2          -0,84893347           0,18063731         -0,049117815     1,0   \n",
      "3          -0,84864938           0,18193476         -0,047663183     1,0   \n",
      "4          -0,84786525           0,18515116         -0,043892254     1,0   \n",
      "\n",
      "   activity  \n",
      "0  STANDING  \n",
      "1  STANDING  \n",
      "2  STANDING  \n",
      "3  STANDING  \n",
      "4  STANDING  \n",
      "\n",
      "[5 rows x 563 columns]\n",
      "  tBodyAcc-mean()-X tBodyAcc-mean()-Y tBodyAcc-mean()-Z tBodyAcc-std()-X  \\\n",
      "0        0,25717778       -0,02328523      -0,014653762        -0,938404   \n",
      "1        0,28602671      -0,013163359       -0,11908252      -0,97541469   \n",
      "2        0,27548482       -0,02605042       -0,11815167      -0,99381904   \n",
      "3        0,27029822      -0,032613869       -0,11752018      -0,99474279   \n",
      "4        0,27483295      -0,027847788       -0,12952716      -0,99385248   \n",
      "\n",
      "  tBodyAcc-std()-Y tBodyAcc-std()-Z tBodyAcc-mad()-X tBodyAcc-mad()-Y  \\\n",
      "0      -0,92009078      -0,66768331      -0,95250112      -0,92524867   \n",
      "1       -0,9674579      -0,94495817       -0,9867988      -0,96840133   \n",
      "2      -0,96992551      -0,96274798      -0,99440345      -0,97073498   \n",
      "3      -0,97326761      -0,96709068      -0,99527433      -0,97447101   \n",
      "4      -0,96744548      -0,97829499       -0,9941114      -0,96595259   \n",
      "\n",
      "  tBodyAcc-mad()-Z tBodyAcc-max()-X  ... fBodyBodyGyroJerkMag-skewness()  \\\n",
      "0      -0,67430222      -0,89408755  ...                     -0,33037044   \n",
      "1       -0,9458234      -0,89408755  ...                     -0,12184509   \n",
      "2      -0,96348267      -0,93926027  ...                     -0,19042189   \n",
      "3      -0,96889736      -0,93860975  ...                     -0,34441804   \n",
      "4        -0,977346      -0,93860975  ...                     -0,53468487   \n",
      "\n",
      "  fBodyBodyGyroJerkMag-kurtosis() angle(tBodyAccMean,gravity)  \\\n",
      "0                     -0,70597388                0,0064624029   \n",
      "1                     -0,59494387                -0,083494968   \n",
      "2                     -0,64073573                 -0,03495625   \n",
      "3                      -0,7361238                -0,017067021   \n",
      "4                     -0,84659517               -0,0022226521   \n",
      "\n",
      "  angle(tBodyAccJerkMean),gravityMean) angle(tBodyGyroMean,gravityMean)  \\\n",
      "0                           0,16291982                      -0,82588562   \n",
      "1                          0,017499572                      -0,43437455   \n",
      "2                           0,20230203                      0,064103354   \n",
      "3                           0,15443783                       0,34013408   \n",
      "4                         -0,040046393                       0,73671509   \n",
      "\n",
      "  angle(tBodyGyroJerkMean,gravityMean) angle(X,gravityMean)  \\\n",
      "0                           0,27115145          -0,72000927   \n",
      "1                           0,92059323          -0,69809082   \n",
      "2                           0,14506843          -0,70277146   \n",
      "3                           0,29640709          -0,69895383   \n",
      "4                          -0,11854473          -0,69224496   \n",
      "\n",
      "  angle(Y,gravityMean) angle(Z,gravityMean) subject  \n",
      "0           0,27680104         -0,057978304     2,0  \n",
      "1           0,28134292         -0,083898014     2,0  \n",
      "2           0,28008303         -0,079346197     2,0  \n",
      "3           0,28411379         -0,077108002     2,0  \n",
      "4           0,29072202          -0,07385681     2,0  \n",
      "\n",
      "[5 rows x 562 columns]\n",
      "Index(['tBodyAcc-mean()-X', 'tBodyAcc-mean()-Y', 'tBodyAcc-mean()-Z',\n",
      "       'tBodyAcc-std()-X', 'tBodyAcc-std()-Y', 'tBodyAcc-std()-Z',\n",
      "       'tBodyAcc-mad()-X', 'tBodyAcc-mad()-Y', 'tBodyAcc-mad()-Z',\n",
      "       'tBodyAcc-max()-X',\n",
      "       ...\n",
      "       'fBodyBodyGyroJerkMag-kurtosis()', 'angle(tBodyAccMean,gravity)',\n",
      "       'angle(tBodyAccJerkMean),gravityMean)',\n",
      "       'angle(tBodyGyroMean,gravityMean)',\n",
      "       'angle(tBodyGyroJerkMean,gravityMean)', 'angle(X,gravityMean)',\n",
      "       'angle(Y,gravityMean)', 'angle(Z,gravityMean)', 'subject', 'activity'],\n",
      "      dtype='object', length=563)\n",
      "Index(['tBodyAcc-mean()-X', 'tBodyAcc-mean()-Y', 'tBodyAcc-mean()-Z',\n",
      "       'tBodyAcc-std()-X', 'tBodyAcc-std()-Y', 'tBodyAcc-std()-Z',\n",
      "       'tBodyAcc-mad()-X', 'tBodyAcc-mad()-Y', 'tBodyAcc-mad()-Z',\n",
      "       'tBodyAcc-max()-X',\n",
      "       ...\n",
      "       'fBodyBodyGyroJerkMag-skewness()', 'fBodyBodyGyroJerkMag-kurtosis()',\n",
      "       'angle(tBodyAccMean,gravity)', 'angle(tBodyAccJerkMean),gravityMean)',\n",
      "       'angle(tBodyGyroMean,gravityMean)',\n",
      "       'angle(tBodyGyroJerkMean,gravityMean)', 'angle(X,gravityMean)',\n",
      "       'angle(Y,gravityMean)', 'angle(Z,gravityMean)', 'subject'],\n",
      "      dtype='object', length=562)\n",
      "['1,0' '3,0' '5,0' '6,0' '7,0' '8,0' '11,0' '14,0' '15,0' '16,0' '17,0'\n",
      " '19,0' '21,0' '22,0' '23,0' '25,0' '26,0' '27,0' '28,0' '29,0' '30,0']\n"
     ]
    }
   ],
   "source": [
    "import pandas as pd\n",
    "\n",
    "# Daten einlesen\n",
    "data = pd.read_csv('measures.csv', sep=';')\n",
    "to_predict = pd.read_csv('to_predict.csv', sep=';')\n",
    "\n",
    "# Überprüfen der ersten Zeilen der Daten\n",
    "print(data.head())\n",
    "print(to_predict.head())\n",
    "\n",
    "# Überprüfen der Spaltennamen\n",
    "print(data.columns)\n",
    "print(to_predict.columns)\n",
    "\n",
    "# Überprüfen der eindeutigen Werte in der 'subject'-Spalte\n",
    "print(data['subject'].unique())\n",
    "\n"
   ],
   "metadata": {
    "collapsed": false,
    "ExecuteTime": {
     "end_time": "2024-05-17T06:48:56.212917300Z",
     "start_time": "2024-05-17T06:48:53.006991200Z"
    }
   },
   "id": "25e86aa60b3b407a",
   "execution_count": 18
  },
  {
   "cell_type": "markdown",
   "source": [],
   "metadata": {
    "collapsed": false
   },
   "id": "d95bde7a7ecbcbce"
  },
  {
   "cell_type": "markdown",
   "metadata": {},
   "source": [
    "### Schritt 4: Training des SVM-Modells"
   ],
   "id": "9bdb97afeeecbde1"
  },
  {
   "cell_type": "code",
   "execution_count": 19,
   "metadata": {
    "ExecuteTime": {
     "end_time": "2024-05-17T06:48:56.355309100Z",
     "start_time": "2024-05-17T06:48:56.243455100Z"
    }
   },
   "outputs": [
    {
     "ename": "ValueError",
     "evalue": "Found array with 0 sample(s) (shape=(0, 561)) while a minimum of 1 is required by SVC.",
     "output_type": "error",
     "traceback": [
      "\u001B[1;31m---------------------------------------------------------------------------\u001B[0m",
      "\u001B[1;31mValueError\u001B[0m                                Traceback (most recent call last)",
      "Cell \u001B[1;32mIn[19], line 6\u001B[0m\n\u001B[0;32m      4\u001B[0m \u001B[38;5;66;03m# SVM Modelltraining\u001B[39;00m\n\u001B[0;32m      5\u001B[0m svm_model \u001B[38;5;241m=\u001B[39m SVC(kernel\u001B[38;5;241m=\u001B[39m\u001B[38;5;124m'\u001B[39m\u001B[38;5;124mlinear\u001B[39m\u001B[38;5;124m'\u001B[39m, random_state\u001B[38;5;241m=\u001B[39m\u001B[38;5;241m42\u001B[39m)\n\u001B[1;32m----> 6\u001B[0m \u001B[43msvm_model\u001B[49m\u001B[38;5;241;43m.\u001B[39;49m\u001B[43mfit\u001B[49m\u001B[43m(\u001B[49m\u001B[43mX_train\u001B[49m\u001B[43m,\u001B[49m\u001B[43m \u001B[49m\u001B[43my_train\u001B[49m\u001B[43m)\u001B[49m\n\u001B[0;32m      8\u001B[0m \u001B[38;5;66;03m# Modellbewertung\u001B[39;00m\n\u001B[0;32m      9\u001B[0m y_pred \u001B[38;5;241m=\u001B[39m svm_model\u001B[38;5;241m.\u001B[39mpredict(X_test)\n",
      "File \u001B[1;32m~\\PycharmProjects\\Data Mining\\.venv\\Lib\\site-packages\\sklearn\\base.py:1474\u001B[0m, in \u001B[0;36m_fit_context.<locals>.decorator.<locals>.wrapper\u001B[1;34m(estimator, *args, **kwargs)\u001B[0m\n\u001B[0;32m   1467\u001B[0m     estimator\u001B[38;5;241m.\u001B[39m_validate_params()\n\u001B[0;32m   1469\u001B[0m \u001B[38;5;28;01mwith\u001B[39;00m config_context(\n\u001B[0;32m   1470\u001B[0m     skip_parameter_validation\u001B[38;5;241m=\u001B[39m(\n\u001B[0;32m   1471\u001B[0m         prefer_skip_nested_validation \u001B[38;5;129;01mor\u001B[39;00m global_skip_validation\n\u001B[0;32m   1472\u001B[0m     )\n\u001B[0;32m   1473\u001B[0m ):\n\u001B[1;32m-> 1474\u001B[0m     \u001B[38;5;28;01mreturn\u001B[39;00m \u001B[43mfit_method\u001B[49m\u001B[43m(\u001B[49m\u001B[43mestimator\u001B[49m\u001B[43m,\u001B[49m\u001B[43m \u001B[49m\u001B[38;5;241;43m*\u001B[39;49m\u001B[43margs\u001B[49m\u001B[43m,\u001B[49m\u001B[43m \u001B[49m\u001B[38;5;241;43m*\u001B[39;49m\u001B[38;5;241;43m*\u001B[39;49m\u001B[43mkwargs\u001B[49m\u001B[43m)\u001B[49m\n",
      "File \u001B[1;32m~\\PycharmProjects\\Data Mining\\.venv\\Lib\\site-packages\\sklearn\\svm\\_base.py:190\u001B[0m, in \u001B[0;36mBaseLibSVM.fit\u001B[1;34m(self, X, y, sample_weight)\u001B[0m\n\u001B[0;32m    188\u001B[0m     check_consistent_length(X, y)\n\u001B[0;32m    189\u001B[0m \u001B[38;5;28;01melse\u001B[39;00m:\n\u001B[1;32m--> 190\u001B[0m     X, y \u001B[38;5;241m=\u001B[39m \u001B[38;5;28;43mself\u001B[39;49m\u001B[38;5;241;43m.\u001B[39;49m\u001B[43m_validate_data\u001B[49m\u001B[43m(\u001B[49m\n\u001B[0;32m    191\u001B[0m \u001B[43m        \u001B[49m\u001B[43mX\u001B[49m\u001B[43m,\u001B[49m\n\u001B[0;32m    192\u001B[0m \u001B[43m        \u001B[49m\u001B[43my\u001B[49m\u001B[43m,\u001B[49m\n\u001B[0;32m    193\u001B[0m \u001B[43m        \u001B[49m\u001B[43mdtype\u001B[49m\u001B[38;5;241;43m=\u001B[39;49m\u001B[43mnp\u001B[49m\u001B[38;5;241;43m.\u001B[39;49m\u001B[43mfloat64\u001B[49m\u001B[43m,\u001B[49m\n\u001B[0;32m    194\u001B[0m \u001B[43m        \u001B[49m\u001B[43morder\u001B[49m\u001B[38;5;241;43m=\u001B[39;49m\u001B[38;5;124;43m\"\u001B[39;49m\u001B[38;5;124;43mC\u001B[39;49m\u001B[38;5;124;43m\"\u001B[39;49m\u001B[43m,\u001B[49m\n\u001B[0;32m    195\u001B[0m \u001B[43m        \u001B[49m\u001B[43maccept_sparse\u001B[49m\u001B[38;5;241;43m=\u001B[39;49m\u001B[38;5;124;43m\"\u001B[39;49m\u001B[38;5;124;43mcsr\u001B[39;49m\u001B[38;5;124;43m\"\u001B[39;49m\u001B[43m,\u001B[49m\n\u001B[0;32m    196\u001B[0m \u001B[43m        \u001B[49m\u001B[43maccept_large_sparse\u001B[49m\u001B[38;5;241;43m=\u001B[39;49m\u001B[38;5;28;43;01mFalse\u001B[39;49;00m\u001B[43m,\u001B[49m\n\u001B[0;32m    197\u001B[0m \u001B[43m    \u001B[49m\u001B[43m)\u001B[49m\n\u001B[0;32m    199\u001B[0m y \u001B[38;5;241m=\u001B[39m \u001B[38;5;28mself\u001B[39m\u001B[38;5;241m.\u001B[39m_validate_targets(y)\n\u001B[0;32m    201\u001B[0m sample_weight \u001B[38;5;241m=\u001B[39m np\u001B[38;5;241m.\u001B[39masarray(\n\u001B[0;32m    202\u001B[0m     [] \u001B[38;5;28;01mif\u001B[39;00m sample_weight \u001B[38;5;129;01mis\u001B[39;00m \u001B[38;5;28;01mNone\u001B[39;00m \u001B[38;5;28;01melse\u001B[39;00m sample_weight, dtype\u001B[38;5;241m=\u001B[39mnp\u001B[38;5;241m.\u001B[39mfloat64\n\u001B[0;32m    203\u001B[0m )\n",
      "File \u001B[1;32m~\\PycharmProjects\\Data Mining\\.venv\\Lib\\site-packages\\sklearn\\base.py:650\u001B[0m, in \u001B[0;36mBaseEstimator._validate_data\u001B[1;34m(self, X, y, reset, validate_separately, cast_to_ndarray, **check_params)\u001B[0m\n\u001B[0;32m    648\u001B[0m         y \u001B[38;5;241m=\u001B[39m check_array(y, input_name\u001B[38;5;241m=\u001B[39m\u001B[38;5;124m\"\u001B[39m\u001B[38;5;124my\u001B[39m\u001B[38;5;124m\"\u001B[39m, \u001B[38;5;241m*\u001B[39m\u001B[38;5;241m*\u001B[39mcheck_y_params)\n\u001B[0;32m    649\u001B[0m     \u001B[38;5;28;01melse\u001B[39;00m:\n\u001B[1;32m--> 650\u001B[0m         X, y \u001B[38;5;241m=\u001B[39m \u001B[43mcheck_X_y\u001B[49m\u001B[43m(\u001B[49m\u001B[43mX\u001B[49m\u001B[43m,\u001B[49m\u001B[43m \u001B[49m\u001B[43my\u001B[49m\u001B[43m,\u001B[49m\u001B[43m \u001B[49m\u001B[38;5;241;43m*\u001B[39;49m\u001B[38;5;241;43m*\u001B[39;49m\u001B[43mcheck_params\u001B[49m\u001B[43m)\u001B[49m\n\u001B[0;32m    651\u001B[0m     out \u001B[38;5;241m=\u001B[39m X, y\n\u001B[0;32m    653\u001B[0m \u001B[38;5;28;01mif\u001B[39;00m \u001B[38;5;129;01mnot\u001B[39;00m no_val_X \u001B[38;5;129;01mand\u001B[39;00m check_params\u001B[38;5;241m.\u001B[39mget(\u001B[38;5;124m\"\u001B[39m\u001B[38;5;124mensure_2d\u001B[39m\u001B[38;5;124m\"\u001B[39m, \u001B[38;5;28;01mTrue\u001B[39;00m):\n",
      "File \u001B[1;32m~\\PycharmProjects\\Data Mining\\.venv\\Lib\\site-packages\\sklearn\\utils\\validation.py:1263\u001B[0m, in \u001B[0;36mcheck_X_y\u001B[1;34m(X, y, accept_sparse, accept_large_sparse, dtype, order, copy, force_all_finite, ensure_2d, allow_nd, multi_output, ensure_min_samples, ensure_min_features, y_numeric, estimator)\u001B[0m\n\u001B[0;32m   1258\u001B[0m         estimator_name \u001B[38;5;241m=\u001B[39m _check_estimator_name(estimator)\n\u001B[0;32m   1259\u001B[0m     \u001B[38;5;28;01mraise\u001B[39;00m \u001B[38;5;167;01mValueError\u001B[39;00m(\n\u001B[0;32m   1260\u001B[0m         \u001B[38;5;124mf\u001B[39m\u001B[38;5;124m\"\u001B[39m\u001B[38;5;132;01m{\u001B[39;00mestimator_name\u001B[38;5;132;01m}\u001B[39;00m\u001B[38;5;124m requires y to be passed, but the target y is None\u001B[39m\u001B[38;5;124m\"\u001B[39m\n\u001B[0;32m   1261\u001B[0m     )\n\u001B[1;32m-> 1263\u001B[0m X \u001B[38;5;241m=\u001B[39m \u001B[43mcheck_array\u001B[49m\u001B[43m(\u001B[49m\n\u001B[0;32m   1264\u001B[0m \u001B[43m    \u001B[49m\u001B[43mX\u001B[49m\u001B[43m,\u001B[49m\n\u001B[0;32m   1265\u001B[0m \u001B[43m    \u001B[49m\u001B[43maccept_sparse\u001B[49m\u001B[38;5;241;43m=\u001B[39;49m\u001B[43maccept_sparse\u001B[49m\u001B[43m,\u001B[49m\n\u001B[0;32m   1266\u001B[0m \u001B[43m    \u001B[49m\u001B[43maccept_large_sparse\u001B[49m\u001B[38;5;241;43m=\u001B[39;49m\u001B[43maccept_large_sparse\u001B[49m\u001B[43m,\u001B[49m\n\u001B[0;32m   1267\u001B[0m \u001B[43m    \u001B[49m\u001B[43mdtype\u001B[49m\u001B[38;5;241;43m=\u001B[39;49m\u001B[43mdtype\u001B[49m\u001B[43m,\u001B[49m\n\u001B[0;32m   1268\u001B[0m \u001B[43m    \u001B[49m\u001B[43morder\u001B[49m\u001B[38;5;241;43m=\u001B[39;49m\u001B[43morder\u001B[49m\u001B[43m,\u001B[49m\n\u001B[0;32m   1269\u001B[0m \u001B[43m    \u001B[49m\u001B[43mcopy\u001B[49m\u001B[38;5;241;43m=\u001B[39;49m\u001B[43mcopy\u001B[49m\u001B[43m,\u001B[49m\n\u001B[0;32m   1270\u001B[0m \u001B[43m    \u001B[49m\u001B[43mforce_all_finite\u001B[49m\u001B[38;5;241;43m=\u001B[39;49m\u001B[43mforce_all_finite\u001B[49m\u001B[43m,\u001B[49m\n\u001B[0;32m   1271\u001B[0m \u001B[43m    \u001B[49m\u001B[43mensure_2d\u001B[49m\u001B[38;5;241;43m=\u001B[39;49m\u001B[43mensure_2d\u001B[49m\u001B[43m,\u001B[49m\n\u001B[0;32m   1272\u001B[0m \u001B[43m    \u001B[49m\u001B[43mallow_nd\u001B[49m\u001B[38;5;241;43m=\u001B[39;49m\u001B[43mallow_nd\u001B[49m\u001B[43m,\u001B[49m\n\u001B[0;32m   1273\u001B[0m \u001B[43m    \u001B[49m\u001B[43mensure_min_samples\u001B[49m\u001B[38;5;241;43m=\u001B[39;49m\u001B[43mensure_min_samples\u001B[49m\u001B[43m,\u001B[49m\n\u001B[0;32m   1274\u001B[0m \u001B[43m    \u001B[49m\u001B[43mensure_min_features\u001B[49m\u001B[38;5;241;43m=\u001B[39;49m\u001B[43mensure_min_features\u001B[49m\u001B[43m,\u001B[49m\n\u001B[0;32m   1275\u001B[0m \u001B[43m    \u001B[49m\u001B[43mestimator\u001B[49m\u001B[38;5;241;43m=\u001B[39;49m\u001B[43mestimator\u001B[49m\u001B[43m,\u001B[49m\n\u001B[0;32m   1276\u001B[0m \u001B[43m    \u001B[49m\u001B[43minput_name\u001B[49m\u001B[38;5;241;43m=\u001B[39;49m\u001B[38;5;124;43m\"\u001B[39;49m\u001B[38;5;124;43mX\u001B[39;49m\u001B[38;5;124;43m\"\u001B[39;49m\u001B[43m,\u001B[49m\n\u001B[0;32m   1277\u001B[0m \u001B[43m\u001B[49m\u001B[43m)\u001B[49m\n\u001B[0;32m   1279\u001B[0m y \u001B[38;5;241m=\u001B[39m _check_y(y, multi_output\u001B[38;5;241m=\u001B[39mmulti_output, y_numeric\u001B[38;5;241m=\u001B[39my_numeric, estimator\u001B[38;5;241m=\u001B[39mestimator)\n\u001B[0;32m   1281\u001B[0m check_consistent_length(X, y)\n",
      "File \u001B[1;32m~\\PycharmProjects\\Data Mining\\.venv\\Lib\\site-packages\\sklearn\\utils\\validation.py:1072\u001B[0m, in \u001B[0;36mcheck_array\u001B[1;34m(array, accept_sparse, accept_large_sparse, dtype, order, copy, force_all_finite, ensure_2d, allow_nd, ensure_min_samples, ensure_min_features, estimator, input_name)\u001B[0m\n\u001B[0;32m   1070\u001B[0m     n_samples \u001B[38;5;241m=\u001B[39m _num_samples(array)\n\u001B[0;32m   1071\u001B[0m     \u001B[38;5;28;01mif\u001B[39;00m n_samples \u001B[38;5;241m<\u001B[39m ensure_min_samples:\n\u001B[1;32m-> 1072\u001B[0m         \u001B[38;5;28;01mraise\u001B[39;00m \u001B[38;5;167;01mValueError\u001B[39;00m(\n\u001B[0;32m   1073\u001B[0m             \u001B[38;5;124m\"\u001B[39m\u001B[38;5;124mFound array with \u001B[39m\u001B[38;5;132;01m%d\u001B[39;00m\u001B[38;5;124m sample(s) (shape=\u001B[39m\u001B[38;5;132;01m%s\u001B[39;00m\u001B[38;5;124m) while a\u001B[39m\u001B[38;5;124m\"\u001B[39m\n\u001B[0;32m   1074\u001B[0m             \u001B[38;5;124m\"\u001B[39m\u001B[38;5;124m minimum of \u001B[39m\u001B[38;5;132;01m%d\u001B[39;00m\u001B[38;5;124m is required\u001B[39m\u001B[38;5;132;01m%s\u001B[39;00m\u001B[38;5;124m.\u001B[39m\u001B[38;5;124m\"\u001B[39m\n\u001B[0;32m   1075\u001B[0m             \u001B[38;5;241m%\u001B[39m (n_samples, array\u001B[38;5;241m.\u001B[39mshape, ensure_min_samples, context)\n\u001B[0;32m   1076\u001B[0m         )\n\u001B[0;32m   1078\u001B[0m \u001B[38;5;28;01mif\u001B[39;00m ensure_min_features \u001B[38;5;241m>\u001B[39m \u001B[38;5;241m0\u001B[39m \u001B[38;5;129;01mand\u001B[39;00m array\u001B[38;5;241m.\u001B[39mndim \u001B[38;5;241m==\u001B[39m \u001B[38;5;241m2\u001B[39m:\n\u001B[0;32m   1079\u001B[0m     n_features \u001B[38;5;241m=\u001B[39m array\u001B[38;5;241m.\u001B[39mshape[\u001B[38;5;241m1\u001B[39m]\n",
      "\u001B[1;31mValueError\u001B[0m: Found array with 0 sample(s) (shape=(0, 561)) while a minimum of 1 is required by SVC."
     ]
    }
   ],
   "source": [
    "from sklearn.svm import SVC\n",
    "from sklearn.metrics import accuracy_score\n",
    "\n",
    "# SVM Modelltraining\n",
    "svm_model = SVC(kernel='linear', random_state=42)\n",
    "svm_model.fit(X_train, y_train)\n",
    "\n",
    "# Modellbewertung\n",
    "y_pred = svm_model.predict(X_test)\n",
    "accuracy = accuracy_score(y_test, y_pred)\n",
    "print(f'Test Accuracy: {accuracy:.2f}')"
   ],
   "id": "7090b2f2e95015e2"
  },
  {
   "cell_type": "markdown",
   "metadata": {},
   "source": [
    "### Schritt 5: Vorhersagen auf unbekannten Daten"
   ],
   "id": "664fcca702066f3b"
  },
  {
   "cell_type": "code",
   "execution_count": null,
   "metadata": {
    "ExecuteTime": {
     "end_time": "2024-05-17T06:48:56.358348400Z",
     "start_time": "2024-05-17T06:48:56.357326800Z"
    }
   },
   "outputs": [],
   "source": [
    "# Vorhersagen auf unbekannten Daten\n",
    "predictions = svm_model.predict(X_to_predict)\n",
    "\n",
    "# Vorhersagen speichern\n",
    "to_predict['activity'] = predictions\n",
    "to_predict.to_csv('predictions.csv', index=False)"
   ],
   "id": "915eb5fd744f0517"
  }
 ],
 "metadata": {
  "kernelspec": {
   "display_name": "Python 3",
   "language": "python",
   "name": "python3"
  },
  "language_info": {
   "codemirror_mode": {
    "name": "ipython",
    "version": 3
   },
   "file_extension": ".py",
   "mimetype": "text/x-python",
   "name": "python",
   "nbconvert_exporter": "python",
   "pygments_lexer": "ipython3",
   "version": "3.8.8"
  }
 },
 "nbformat": 4,
 "nbformat_minor": 5
}
