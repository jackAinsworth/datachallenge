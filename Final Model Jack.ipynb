{
 "cells": [
  {
   "cell_type": "code",
   "id": "initial_id",
   "metadata": {
    "collapsed": true,
    "ExecuteTime": {
     "end_time": "2024-06-07T14:40:15.775513Z",
     "start_time": "2024-06-07T14:40:15.508277Z"
    }
   },
   "source": [
    "from xgboost import XGBClassifier\n",
    "from sklearn.metrics import accuracy_score\n",
    "import pandas as pd\n",
    "\n",
    "from sklearn.linear_model import LogisticRegression\n",
    "from sklearn.svm import SVC\n",
    "from sklearn.neighbors import KNeighborsClassifier\n",
    "from sklearn.tree import DecisionTreeClassifier\n",
    "from sklearn.ensemble import RandomForestClassifier, GradientBoostingClassifier, AdaBoostClassifier, VotingClassifier\n",
    "from sklearn.naive_bayes import GaussianNB\n",
    "from sklearn.neural_network import MLPClassifier\n",
    "from sklearn.model_selection import GridSearchCV, cross_val_score\n",
    "import numpy as np"
   ],
   "outputs": [],
   "execution_count": 1
  },
  {
   "metadata": {},
   "cell_type": "markdown",
   "source": "### Data Preparation",
   "id": "da7db27de24e41c"
  },
  {
   "metadata": {
    "ExecuteTime": {
     "end_time": "2024-06-07T14:40:19.056418Z",
     "start_time": "2024-06-07T14:40:15.776515Z"
    }
   },
   "cell_type": "code",
   "source": [
    "# Load the data\n",
    "# Load the data with ';' delimiter\n",
    "measures = pd.read_csv('measures.csv', delimiter=';')\n",
    "to_predict = pd.read_csv('to_predict.csv', delimiter=';')\n",
    "\n",
    "# Convert comma decimal separator to dot and convert columns to appropriate types\n",
    "measures = measures.map(lambda x: x.replace(',', '.') if isinstance(x, str) else x)\n",
    "measures = measures.astype({col: float for col in measures.columns if col not in ['subject', 'activity']})\n",
    "measures['subject'] = measures['subject'].astype(float)\n",
    "\n",
    "to_predict = to_predict.map(lambda x: x.replace(',', '.') if isinstance(x, str) else x)\n",
    "to_predict = to_predict.astype({col: float for col in measures.columns if col not in ['subject', 'activity']})\n",
    "\n",
    "# Define the subjects for training and test sets\n",
    "training_subjects =      [1, 3, 5, 6,7,8,9,10,11,12,13,14,15,16,17,18,19,20,21,22,23,24,25,26]\n",
    "test_subjects = [27, 28, 29, 30]\n",
    "\n",
    "# Split the measures dataset into training and test sets\n",
    "training_set = measures[measures['subject'].isin(training_subjects)]\n",
    "test_set = measures[measures['subject'].isin(test_subjects)]\n",
    "\n",
    "# Ensure there's no overlap\n",
    "assert not training_set['subject'].isin(test_subjects).any(), \"Training and test sets overlap!\"\n",
    "\n",
    "# Define features and labels\n",
    "X_train = training_set.drop(columns=['subject', 'activity'])\n",
    "y_train = training_set['activity']\n",
    "\n",
    "X_test = test_set.drop(columns=['subject', 'activity'])\n",
    "y_test = test_set['activity']\n",
    "\n",
    "to_predict = to_predict.drop(columns=['subject'])\n"
   ],
   "id": "27c7468e0365a1ff",
   "outputs": [],
   "execution_count": 2
  },
  {
   "metadata": {},
   "cell_type": "markdown",
   "source": [
    "### Feature Selection\n",
    "\n",
    "Optimal number of features: 138\n",
    "Test Set Accuracy with Optimal Features: 0.9683501683501684\n",
    "with LogisticRegression(max_iter=10000, C=38, dual=False)"
   ],
   "id": "74517cf4f51fd6fc"
  },
  {
   "metadata": {
    "ExecuteTime": {
     "end_time": "2024-06-07T15:22:05.503113Z",
     "start_time": "2024-06-07T15:08:36.852425Z"
    }
   },
   "cell_type": "code",
   "source": [
    "from sklearn.feature_selection import RFECV\n",
    "from sklearn.ensemble import RandomForestClassifier\n",
    "from sklearn.model_selection import StratifiedKFold\n",
    "\n",
    "# Initialize the model\n",
    "log_reg = LogisticRegression(max_iter=1000, C=38, dual=False)\n",
    "\n",
    "# Initialize RFECV\n",
    "rfecv = RFECV(estimator=log_reg, step=1, cv=StratifiedKFold(5), scoring='accuracy')\n",
    "\n",
    "# Fit RFECV\n",
    "rfecv.fit(X_train, y_train)\n",
    "\n",
    "# Get the optimal number of features\n",
    "optimal_num_features = rfecv.n_features_\n",
    "print(\"Optimal number of features:\", optimal_num_features)\n",
    "\n",
    "# Get the support and ranking of features\n",
    "selected_features = X_train.columns[rfecv.support_]\n",
    "print(\"Selected features:\", selected_features)\n",
    "\n",
    "# Create new datasets with selected features\n",
    "X_train_optimal_log_reg = X_train[selected_features]\n",
    "X_test_optimal_log_reg = X_test[selected_features]\n",
    "to_predict = to_predict[selected_features]\n",
    "\n"
   ],
   "id": "ab5bfb34f39f8aa9",
   "outputs": [
    {
     "name": "stdout",
     "output_type": "stream",
     "text": [
      "Optimal number of features: 138\n",
      "Selected features: Index(['tBodyAcc-std()-X', 'tBodyAcc-std()-Y', 'tBodyAcc-max()-X',\n",
      "       'tBodyAcc-max()-Z', 'tBodyAcc-min()-X', 'tBodyAcc-min()-Y',\n",
      "       'tBodyAcc-min()-Z', 'tBodyAcc-iqr()-Z', 'tBodyAcc-entropy()-X',\n",
      "       'tBodyAcc-entropy()-Y',\n",
      "       ...\n",
      "       'fBodyBodyAccJerkMag-std()', 'fBodyBodyAccJerkMag-max()',\n",
      "       'fBodyBodyAccJerkMag-entropy()', 'fBodyBodyAccJerkMag-skewness()',\n",
      "       'fBodyBodyGyroMag-min()', 'fBodyBodyGyroMag-meanFreq()',\n",
      "       'fBodyBodyGyroJerkMag-min()', 'fBodyBodyGyroJerkMag-skewness()',\n",
      "       'angle(X,gravityMean)', 'angle(Y,gravityMean)'],\n",
      "      dtype='object', length=138)\n"
     ]
    }
   ],
   "execution_count": 4
  },
  {
   "metadata": {},
   "cell_type": "markdown",
   "source": " ### SMOTE",
   "id": "4648a60170822bd0"
  },
  {
   "metadata": {},
   "cell_type": "code",
   "source": [
    "from imblearn.over_sampling import SMOTE\n",
    "\n",
    "smote = SMOTE(random_state=6)\n",
    "X_train_smote, y_train_smote = smote.fit_resample(X_train_optimal_log_reg, y_train)\n",
    "\n",
    "print(\"SMOTE finished\")"
   ],
   "id": "b1670490d9e72354",
   "outputs": [],
   "execution_count": null
  },
  {
   "metadata": {},
   "cell_type": "markdown",
   "source": "### Training Model SVM",
   "id": "b6b7591de224e1ff"
  },
  {
   "metadata": {},
   "cell_type": "code",
   "source": [
    "# Initialize the SVM classifier\n",
    "svm_smote = SVC(C=40, gamma=0.055, kernel='rbf', probability=True)\n",
    "\n",
    "# Train the classifier on the oversampled data\n",
    "svm_smote.fit(X_train_smote, y_train_smote)\n",
    "\n",
    "# Predict on the test set\n",
    "y_pred_smote = svm_smote.predict(X_test_optimal_log_reg)\n",
    "\n",
    "# Calculate accuracy and confusion matrix\n",
    "accuracy_smote = accuracy_score(y_test, y_pred_smote)\n",
    "conf_matrix_smote = confusion_matrix(y_test, y_pred_smote)\n",
    "\n",
    "# Print the results\n",
    "# print(\"SMOTE SVM Test Set Accuracy:\", accuracy_smote)\n",
    "# print(\"\\nSMOTE SVM Confusion Matrix:\\n\", conf_matrix_smote)\n",
    "# print(\"\\nSMOTE SVM Classification Report:\\n\", classification_report(y_test, y_pred_smote))\n",
    "\n",
    "# Visualizing the confusion matrix\n",
    "plt.figure(figsize=(10, 8))\n",
    "sns.heatmap(conf_matrix_smote, annot=True, fmt='d', cmap='Blues')\n",
    "plt.title('SMOTE SVM Confusion Matrix')\n",
    "plt.xlabel('Predicted Label')\n",
    "plt.ylabel('True Label')\n",
    "plt.show()\n"
   ],
   "id": "9028c3db4882c61f",
   "outputs": [],
   "execution_count": null
  },
  {
   "metadata": {},
   "cell_type": "markdown",
   "source": "### Predicting and Saving",
   "id": "4eab37dffe90530d"
  },
  {
   "metadata": {},
   "cell_type": "code",
   "source": [
    "import pandas as pd\n",
    "\n",
    "# Make predictions on the to_predict dataset\n",
    "predictions = svm_smote.predict(to_predict)\n",
    "\n",
    "# Create a DataFrame with the predictions\n",
    "predictions_df = pd.DataFrame(predictions, columns=['Predicted Activity'])\n",
    "\n",
    "# Assuming 'subject' column needs to be included in the output, if available\n",
    "# If not, you can skip this part\n",
    "if 'subject' in to_predict.columns:\n",
    "    predictions_df['subject'] = to_predict['subject']\n",
    "\n",
    "# Save the predictions to a CSV file\n",
    "predictions_df.to_csv('predicted_activities.csv', index=False)\n",
    "\n",
    "print(\"Predictions saved to 'predicted_activities.csv'\")\n"
   ],
   "id": "163af626df644921",
   "outputs": [],
   "execution_count": null
  }
 ],
 "metadata": {
  "kernelspec": {
   "display_name": "Python 3",
   "language": "python",
   "name": "python3"
  },
  "language_info": {
   "codemirror_mode": {
    "name": "ipython",
    "version": 2
   },
   "file_extension": ".py",
   "mimetype": "text/x-python",
   "name": "python",
   "nbconvert_exporter": "python",
   "pygments_lexer": "ipython2",
   "version": "2.7.6"
  }
 },
 "nbformat": 4,
 "nbformat_minor": 5
}
