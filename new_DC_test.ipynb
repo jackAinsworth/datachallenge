{
 "cells": [
  {
   "cell_type": "code",
   "execution_count": 19,
   "metadata": {
    "collapsed": true
   },
   "outputs": [],
   "source": [
    "from xgboost import XGBClassifier\n",
    "from sklearn.metrics import accuracy_score\n",
    "import pandas as pd\n",
    "import matplotlib.pyplot as plt\n",
    "\n",
    "from sklearn.linear_model import LogisticRegression\n",
    "from sklearn.svm import SVC\n",
    "from sklearn.neighbors import KNeighborsClassifier\n",
    "from sklearn.tree import DecisionTreeClassifier\n",
    "from sklearn.ensemble import RandomForestClassifier, GradientBoostingClassifier, AdaBoostClassifier, VotingClassifier\n",
    "from sklearn.naive_bayes import GaussianNB\n",
    "from sklearn.neural_network import MLPClassifier\n",
    "from sklearn.model_selection import GridSearchCV, cross_val_score\n",
    "import numpy as np\n",
    "import seaborn as sns\n",
    "from sklearn.feature_selection import VarianceThreshold\n",
    "\n",
    "# Load the data\n",
    "# Load the data with ';' delimiter\n",
    "measures = pd.read_csv('measures.csv', delimiter=';')\n",
    "to_predict = pd.read_csv('to_predict.csv', delimiter=';')\n",
    "\n",
    "# Convert comma decimal separator to dot and convert columns to appropriate types\n",
    "measures = measures.map(lambda x: x.replace(',', '.') if isinstance(x, str) else x)\n",
    "measures = measures.astype({col: float for col in measures.columns if col not in ['subject', 'activity']})\n",
    "measures['subject'] = measures['subject'].astype(float)\n",
    "\n",
    "to_predict = to_predict.map(lambda x: x.replace(',', '.') if isinstance(x, str) else x)\n",
    "to_predict = to_predict.astype({col: float for col in to_predict.columns if col not in ['subject', 'activity']})\n",
    "to_predict['subject'] = to_predict['subject'].astype(float)\n",
    "\n",
    "# Feature selection and train-test split\n",
    "X = measures.drop(['activity'], axis=1)\n",
    "y = measures['activity']\n",
    "\n",
    "#from sklearn.model_selection import train_test_split\n",
    "#X_train, X_test, y_train, y_test = train_test_split(X, y, test_size=0.2, random_state=42)\n",
    "\n",
    "training_subjects = [1, 3, 5, 6,7,8,9,10,11,12,13,14,15,16,17,18,19,20,21,22,23,24,25,26]\n",
    "test_subjects = [27, 28, 29, 30]\n",
    "\n",
    "# Split the measures dataset into training and test sets\n",
    "training_set = measures[measures['subject'].isin(training_subjects)]\n",
    "test_set = measures[measures['subject'].isin(test_subjects)]\n",
    "\n",
    "# Ensure there's no overlap\n",
    "assert not training_set['subject'].isin(test_subjects).any(), \"Training and test sets overlap!\"\n",
    "\n",
    "# Define features and labels\n",
    "X_train = training_set.drop(columns=['subject', 'activity'])\n",
    "y_train = training_set['activity']\n",
    "\n",
    "X_test = test_set.drop(columns=['subject', 'activity'])\n",
    "y_test = test_set['activity']\n",
    "\n",
    "\n",
    "to_predict_test_X = to_predict.drop(columns=['subject'])\n"
   ]
  },
  {
   "cell_type": "code",
   "execution_count": 23,
   "outputs": [],
   "source": [
    "# Applying feature selection\n",
    "selector = VarianceThreshold()\n",
    "X_train_important = selector.fit_transform(X_train)\n",
    "X_test_important = selector.transform(X_test)\n",
    "\n",
    "selected_features = X_train.columns[selector.get_support()]"
   ],
   "metadata": {
    "collapsed": false
   }
  },
  {
   "cell_type": "code",
   "execution_count": 11,
   "outputs": [],
   "source": [],
   "metadata": {
    "collapsed": false
   }
  },
  {
   "cell_type": "code",
   "execution_count": null,
   "outputs": [],
   "source": [],
   "metadata": {
    "collapsed": false
   }
  },
  {
   "cell_type": "code",
   "execution_count": 26,
   "outputs": [
    {
     "name": "stdout",
     "output_type": "stream",
     "text": [
      "--> 0.9723905723905724\n",
      "--> 0.9723905723905724\n"
     ]
    }
   ],
   "source": [
    "# Initialize classifiers with chosen hyperparameters\n",
    "log_reg = LogisticRegression(max_iter=10000, C=38, dual=False)\n",
    "svm = SVC(C=40, gamma=0.055, kernel='rbf', probability=True)\n",
    "knn = KNeighborsClassifier(n_neighbors=7, weights='distance')\n",
    "dt = DecisionTreeClassifier(max_depth=100, min_samples_split=2)\n",
    "rf = RandomForestClassifier(max_depth=100, n_estimators=1000)\n",
    "gb = GradientBoostingClassifier(n_estimators=100, learning_rate=0.1, max_depth=3)\n",
    "nb = GaussianNB()\n",
    "ada = AdaBoostClassifier(n_estimators=100, learning_rate=1, algorithm=\"SAMME\")\n",
    "mlp = MLPClassifier(hidden_layer_sizes=(100,), activation='relu', solver='lbfgs', alpha=0.002, learning_rate='adaptive', max_iter=2500)\n",
    "xgb = XGBClassifier(n_estimators=500, learning_rate=0.2, max_depth=5, subsample=0.8, colsample_bytree=0.8, use_label_encoder=False, eval_metric='mlogloss')\n",
    "\n",
    "# Define the ensemble of classifiers\n",
    "ensemble = VotingClassifier(estimators=[\n",
    "    ('log_reg', log_reg),\n",
    "    ('svm', svm),\n",
    "    #('knn', knn),\n",
    "    #('dt', dt),\n",
    "    #('rf', rf),\n",
    "    #('gb', gb),\n",
    "    #('nb', nb),\n",
    "    #('ada', ada),\n",
    "    #('mlp', mlp),\n",
    "    #('xgb', xgb)\n",
    "], voting='soft')  # Use 'soft' for probability-based voting\n",
    "\n",
    "# Fit the ensemble model\n",
    "ensemble.fit(X_train_important, y_train)\n",
    "# Evaluate the model on the test set\n",
    "print(\"-->\", ensemble.score(X_test_important, y_test))\n",
    "ensemble.fit(pd.DataFrame(X_train_important, columns=selected_features), y_train)\n",
    "print(\"-->\", ensemble.score(pd.DataFrame(X_test_important, columns=selected_features), y_test))\n",
    "\n",
    "# Predict on the test set\n",
    "y_pred = ensemble.predict(to_predict_test_X)\n"
   ],
   "metadata": {
    "collapsed": false
   }
  },
  {
   "cell_type": "code",
   "execution_count": null,
   "outputs": [],
   "source": [],
   "metadata": {
    "collapsed": false
   }
  }
 ],
 "metadata": {
  "kernelspec": {
   "display_name": "Python 3",
   "language": "python",
   "name": "python3"
  },
  "language_info": {
   "codemirror_mode": {
    "name": "ipython",
    "version": 2
   },
   "file_extension": ".py",
   "mimetype": "text/x-python",
   "name": "python",
   "nbconvert_exporter": "python",
   "pygments_lexer": "ipython2",
   "version": "2.7.6"
  }
 },
 "nbformat": 4,
 "nbformat_minor": 0
}
